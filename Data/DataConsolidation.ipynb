{
 "cells": [
  {
   "cell_type": "code",
   "execution_count": 1,
   "id": "c1cf36c3-da6c-4fae-9e73-0211dd9e4b3f",
   "metadata": {},
   "outputs": [],
   "source": [
    "import pandas as pd"
   ]
  },
  {
   "cell_type": "code",
   "execution_count": 2,
   "id": "a43c05a9-ecef-449d-badd-96947d592377",
   "metadata": {},
   "outputs": [],
   "source": [
    "#Read each of the files\n",
    "antro_1 = pd.read_csv('./Raw/meta_westernization_paper.meta', sep = '\\t')\n",
    "antro_2 = pd.read_csv('./Raw/meta_diet_paper.meta', sep = '\\t')\n",
    "nutrients = pd.read_csv('./Raw/nutrients.txt', sep = '\\t')\n",
    "otu = pd.read_csv('./Raw/otu_data.otus',sep = '\\t')\n",
    "food_group = pd.read_csv('./Raw/food_groups.csv')"
   ]
  },
  {
   "cell_type": "markdown",
   "id": "1171d933-4017-46ae-bf3b-6d346f3b9a47",
   "metadata": {},
   "source": [
    "*Overview of data files*\n",
    "1. Antro_1: 446 observations, ID type MI_001_H\n",
    "2. Antro_2: 446 observations, ID type MI_001_H \n",
    "3. nutrients: 459 observations, ID type MI_001_H (column called id)\n",
    "4. otu: 446 observations, ID type MI_001_H (column called samples)\n",
    "5. food_group: 557 observations. Has no ID columnn but is connected to nutrients through Codalt"
   ]
  },
  {
   "cell_type": "code",
   "execution_count": 3,
   "id": "58c717d1-bef3-4561-9366-70ccdee2602a",
   "metadata": {},
   "outputs": [
    {
     "data": {
      "text/html": [
       "<div>\n",
       "<style scoped>\n",
       "    .dataframe tbody tr th:only-of-type {\n",
       "        vertical-align: middle;\n",
       "    }\n",
       "\n",
       "    .dataframe tbody tr th {\n",
       "        vertical-align: top;\n",
       "    }\n",
       "\n",
       "    .dataframe thead th {\n",
       "        text-align: right;\n",
       "    }\n",
       "</style>\n",
       "<table border=\"1\" class=\"dataframe\">\n",
       "  <thead>\n",
       "    <tr style=\"text-align: right;\">\n",
       "      <th></th>\n",
       "      <th>ID</th>\n",
       "      <th>city</th>\n",
       "      <th>sex</th>\n",
       "      <th>age</th>\n",
       "      <th>age_range</th>\n",
       "      <th>HDL</th>\n",
       "      <th>LDL</th>\n",
       "      <th>cholesterol</th>\n",
       "      <th>triglycerides</th>\n",
       "      <th>hsCRP</th>\n",
       "      <th>...</th>\n",
       "      <th>waist</th>\n",
       "      <th>medicament</th>\n",
       "      <th>fiber</th>\n",
       "      <th>per_protein</th>\n",
       "      <th>per_animal_protein</th>\n",
       "      <th>per_total_fat</th>\n",
       "      <th>per_saturated_fat</th>\n",
       "      <th>per_monoinsaturated_fat</th>\n",
       "      <th>per_polyunsaturated_fat</th>\n",
       "      <th>per_carbohydrates</th>\n",
       "    </tr>\n",
       "  </thead>\n",
       "  <tbody>\n",
       "    <tr>\n",
       "      <th>0</th>\n",
       "      <td>MI_001_H</td>\n",
       "      <td>Medellin</td>\n",
       "      <td>Male</td>\n",
       "      <td>36</td>\n",
       "      <td>18_40</td>\n",
       "      <td>38</td>\n",
       "      <td>93</td>\n",
       "      <td>170</td>\n",
       "      <td>195</td>\n",
       "      <td>1,71</td>\n",
       "      <td>...</td>\n",
       "      <td>97,6</td>\n",
       "      <td>No</td>\n",
       "      <td>19</td>\n",
       "      <td>16,15</td>\n",
       "      <td>60,53</td>\n",
       "      <td>28,4</td>\n",
       "      <td>11,01</td>\n",
       "      <td>9,88</td>\n",
       "      <td>4,82</td>\n",
       "      <td>55,47</td>\n",
       "    </tr>\n",
       "  </tbody>\n",
       "</table>\n",
       "<p>1 rows × 32 columns</p>\n",
       "</div>"
      ],
      "text/plain": [
       "         ID      city   sex  age age_range  HDL LDL  cholesterol  \\\n",
       "0  MI_001_H  Medellin  Male   36     18_40   38  93          170   \n",
       "\n",
       "   triglycerides hsCRP  ...  waist medicament fiber per_protein  \\\n",
       "0            195  1,71  ...   97,6         No    19       16,15   \n",
       "\n",
       "  per_animal_protein per_total_fat per_saturated_fat  per_monoinsaturated_fat  \\\n",
       "0              60,53          28,4             11,01                     9,88   \n",
       "\n",
       "   per_polyunsaturated_fat per_carbohydrates  \n",
       "0                     4,82             55,47  \n",
       "\n",
       "[1 rows x 32 columns]"
      ]
     },
     "execution_count": 3,
     "metadata": {},
     "output_type": "execute_result"
    }
   ],
   "source": [
    "antro_1.head(1)"
   ]
  },
  {
   "cell_type": "code",
   "execution_count": 4,
   "id": "a16d262e-a03f-4219-80d7-8cb81ad00f51",
   "metadata": {},
   "outputs": [
    {
     "data": {
      "text/plain": [
       "(446, 32)"
      ]
     },
     "execution_count": 4,
     "metadata": {},
     "output_type": "execute_result"
    }
   ],
   "source": [
    "antro_1.shape"
   ]
  },
  {
   "cell_type": "markdown",
   "id": "c4d84d6c-a2ef-4179-afa2-e59d6369740f",
   "metadata": {},
   "source": [
    "### Step 1: Verify data types "
   ]
  },
  {
   "cell_type": "markdown",
   "id": "4a16576e-22d9-4b9e-8a7d-9ed455fcca3f",
   "metadata": {},
   "source": [
    "#### Step 1.1: Antro_1 "
   ]
  },
  {
   "cell_type": "code",
   "execution_count": 5,
   "id": "abaf8724-6944-4af8-8d10-17d0203bf554",
   "metadata": {},
   "outputs": [
    {
     "data": {
      "text/plain": [
       "ID                          object\n",
       "city                        object\n",
       "sex                         object\n",
       "age                          int64\n",
       "age_range                   object\n",
       "HDL                          int64\n",
       "LDL                         object\n",
       "cholesterol                  int64\n",
       "triglycerides                int64\n",
       "hsCRP                       object\n",
       "glucose                      int64\n",
       "glycosylated_hg             object\n",
       "adiponectin                 object\n",
       "insulin                     object\n",
       "HOMA_IR                     object\n",
       "stool_consistency           object\n",
       "hiden_blood                 object\n",
       "systolic_bp                float64\n",
       "diastolic_bp                 int64\n",
       "bmi                         object\n",
       "bmi_class                   object\n",
       "body_fat                    object\n",
       "waist                       object\n",
       "medicament                  object\n",
       "fiber                        int64\n",
       "per_protein                 object\n",
       "per_animal_protein          object\n",
       "per_total_fat               object\n",
       "per_saturated_fat           object\n",
       "per_monoinsaturated_fat     object\n",
       "per_polyunsaturated_fat     object\n",
       "per_carbohydrates           object\n",
       "dtype: object"
      ]
     },
     "execution_count": 5,
     "metadata": {},
     "output_type": "execute_result"
    }
   ],
   "source": [
    "#Antro 1: Anthropometric with per_x columns\n",
    "antro_1.dtypes"
   ]
  },
  {
   "cell_type": "code",
   "execution_count": 6,
   "id": "7e1ce265-3462-4856-8250-009cea523dee",
   "metadata": {},
   "outputs": [
    {
     "data": {
      "text/plain": [
       "['ID',\n",
       " 'city',\n",
       " 'sex',\n",
       " 'age_range',\n",
       " 'LDL',\n",
       " 'hsCRP',\n",
       " 'glycosylated_hg',\n",
       " 'adiponectin',\n",
       " 'insulin',\n",
       " 'HOMA_IR',\n",
       " 'stool_consistency',\n",
       " 'hiden_blood',\n",
       " 'bmi',\n",
       " 'bmi_class',\n",
       " 'body_fat',\n",
       " 'waist',\n",
       " 'medicament',\n",
       " 'per_protein',\n",
       " 'per_animal_protein',\n",
       " 'per_total_fat',\n",
       " 'per_saturated_fat',\n",
       " 'per_monoinsaturated_fat',\n",
       " 'per_polyunsaturated_fat',\n",
       " 'per_carbohydrates']"
      ]
     },
     "execution_count": 6,
     "metadata": {},
     "output_type": "execute_result"
    }
   ],
   "source": [
    "#Columns with object data type:\n",
    "tipos_incorrectos_antro_1 = antro_1.columns[antro_1.dtypes == 'object'].tolist()\n",
    "tipos_incorrectos_antro_1"
   ]
  },
  {
   "cell_type": "code",
   "execution_count": 7,
   "id": "4db6f3ed-d1f4-4ce9-b4f6-fdbb552d7ccc",
   "metadata": {},
   "outputs": [],
   "source": [
    "#Remove those meant to be strings\n",
    "tipos_incorrectos_antro_1.remove('ID')\n",
    "tipos_incorrectos_antro_1.remove('sex')\n",
    "tipos_incorrectos_antro_1.remove('city')\n",
    "tipos_incorrectos_antro_1.remove('age_range')\n",
    "tipos_incorrectos_antro_1.remove('stool_consistency')\n",
    "tipos_incorrectos_antro_1.remove('hiden_blood')\n",
    "tipos_incorrectos_antro_1.remove('bmi_class')\n",
    "tipos_incorrectos_antro_1.remove('medicament')"
   ]
  },
  {
   "cell_type": "code",
   "execution_count": 8,
   "id": "ba210c68-11e1-45f3-9b93-ed9472fb304c",
   "metadata": {},
   "outputs": [
    {
     "data": {
      "text/html": [
       "<div>\n",
       "<style scoped>\n",
       "    .dataframe tbody tr th:only-of-type {\n",
       "        vertical-align: middle;\n",
       "    }\n",
       "\n",
       "    .dataframe tbody tr th {\n",
       "        vertical-align: top;\n",
       "    }\n",
       "\n",
       "    .dataframe thead th {\n",
       "        text-align: right;\n",
       "    }\n",
       "</style>\n",
       "<table border=\"1\" class=\"dataframe\">\n",
       "  <thead>\n",
       "    <tr style=\"text-align: right;\">\n",
       "      <th></th>\n",
       "      <th>LDL</th>\n",
       "      <th>hsCRP</th>\n",
       "      <th>glycosylated_hg</th>\n",
       "      <th>adiponectin</th>\n",
       "      <th>insulin</th>\n",
       "      <th>HOMA_IR</th>\n",
       "      <th>bmi</th>\n",
       "      <th>body_fat</th>\n",
       "      <th>waist</th>\n",
       "      <th>per_protein</th>\n",
       "      <th>per_animal_protein</th>\n",
       "      <th>per_total_fat</th>\n",
       "      <th>per_saturated_fat</th>\n",
       "      <th>per_monoinsaturated_fat</th>\n",
       "      <th>per_polyunsaturated_fat</th>\n",
       "      <th>per_carbohydrates</th>\n",
       "    </tr>\n",
       "  </thead>\n",
       "  <tbody>\n",
       "    <tr>\n",
       "      <th>0</th>\n",
       "      <td>93</td>\n",
       "      <td>1,71</td>\n",
       "      <td>5,47</td>\n",
       "      <td>5,33</td>\n",
       "      <td>15,09</td>\n",
       "      <td>3,201092</td>\n",
       "      <td>29,7</td>\n",
       "      <td>37,55085213</td>\n",
       "      <td>97,6</td>\n",
       "      <td>16,15</td>\n",
       "      <td>60,53</td>\n",
       "      <td>28,4</td>\n",
       "      <td>11,01</td>\n",
       "      <td>9,88</td>\n",
       "      <td>4,82</td>\n",
       "      <td>55,47</td>\n",
       "    </tr>\n",
       "    <tr>\n",
       "      <th>1</th>\n",
       "      <td>130</td>\n",
       "      <td>0,32</td>\n",
       "      <td>5,81</td>\n",
       "      <td>2,57</td>\n",
       "      <td>13,57</td>\n",
       "      <td>2,912122</td>\n",
       "      <td>30,4</td>\n",
       "      <td>41,00993849</td>\n",
       "      <td>89,3</td>\n",
       "      <td>13,77</td>\n",
       "      <td>66,88</td>\n",
       "      <td>29,74</td>\n",
       "      <td>11,61</td>\n",
       "      <td>10,35</td>\n",
       "      <td>6,55</td>\n",
       "      <td>56,1</td>\n",
       "    </tr>\n",
       "  </tbody>\n",
       "</table>\n",
       "</div>"
      ],
      "text/plain": [
       "   LDL hsCRP glycosylated_hg adiponectin insulin   HOMA_IR   bmi     body_fat  \\\n",
       "0   93  1,71            5,47        5,33   15,09  3,201092  29,7  37,55085213   \n",
       "1  130  0,32            5,81        2,57   13,57  2,912122  30,4  41,00993849   \n",
       "\n",
       "  waist per_protein per_animal_protein per_total_fat per_saturated_fat  \\\n",
       "0  97,6       16,15              60,53          28,4             11,01   \n",
       "1  89,3       13,77              66,88         29,74             11,61   \n",
       "\n",
       "  per_monoinsaturated_fat per_polyunsaturated_fat per_carbohydrates  \n",
       "0                    9,88                    4,82             55,47  \n",
       "1                   10,35                    6,55              56,1  "
      ]
     },
     "execution_count": 8,
     "metadata": {},
     "output_type": "execute_result"
    }
   ],
   "source": [
    "antro_1[tipos_incorrectos_antro_1].head(2)"
   ]
  },
  {
   "cell_type": "code",
   "execution_count": 9,
   "id": "333ad5c6-04ec-4793-bde3-411d2774baab",
   "metadata": {},
   "outputs": [],
   "source": [
    "#Multiple columns are wrong because of \",\" as decimal separator -> we convert them\n",
    "antro_1[tipos_incorrectos_antro_1] = antro_1[tipos_incorrectos_antro_1].apply(lambda x: pd.to_numeric(x.str.replace(',', '.'), errors='coerce'))"
   ]
  },
  {
   "cell_type": "code",
   "execution_count": 10,
   "id": "1e7c21bd-acf5-4800-b224-9765d85b483a",
   "metadata": {},
   "outputs": [
    {
     "name": "stdout",
     "output_type": "stream",
     "text": [
      "<class 'pandas.core.frame.DataFrame'>\n",
      "RangeIndex: 446 entries, 0 to 445\n",
      "Data columns (total 32 columns):\n",
      " #   Column                   Non-Null Count  Dtype  \n",
      "---  ------                   --------------  -----  \n",
      " 0   ID                       446 non-null    object \n",
      " 1   city                     446 non-null    object \n",
      " 2   sex                      446 non-null    object \n",
      " 3   age                      446 non-null    int64  \n",
      " 4   age_range                446 non-null    object \n",
      " 5   HDL                      446 non-null    int64  \n",
      " 6   LDL                      444 non-null    float64\n",
      " 7   cholesterol              446 non-null    int64  \n",
      " 8   triglycerides            446 non-null    int64  \n",
      " 9   hsCRP                    446 non-null    float64\n",
      " 10  glucose                  446 non-null    int64  \n",
      " 11  glycosylated_hg          446 non-null    float64\n",
      " 12  adiponectin              446 non-null    float64\n",
      " 13  insulin                  446 non-null    float64\n",
      " 14  HOMA_IR                  446 non-null    float64\n",
      " 15  stool_consistency        446 non-null    object \n",
      " 16  hiden_blood              446 non-null    object \n",
      " 17  systolic_bp              445 non-null    float64\n",
      " 18  diastolic_bp             446 non-null    int64  \n",
      " 19  bmi                      446 non-null    float64\n",
      " 20  bmi_class                446 non-null    object \n",
      " 21  body_fat                 446 non-null    float64\n",
      " 22  waist                    446 non-null    float64\n",
      " 23  medicament               446 non-null    object \n",
      " 24  fiber                    446 non-null    int64  \n",
      " 25  per_protein              446 non-null    float64\n",
      " 26  per_animal_protein       446 non-null    float64\n",
      " 27  per_total_fat            446 non-null    float64\n",
      " 28  per_saturated_fat        446 non-null    float64\n",
      " 29  per_monoinsaturated_fat  446 non-null    float64\n",
      " 30  per_polyunsaturated_fat  446 non-null    float64\n",
      " 31  per_carbohydrates        446 non-null    float64\n",
      "dtypes: float64(17), int64(7), object(8)\n",
      "memory usage: 111.6+ KB\n"
     ]
    }
   ],
   "source": [
    "#Verify if our corrections were effective\n",
    "antro_1.info()"
   ]
  },
  {
   "cell_type": "markdown",
   "id": "2fb25fd1-e6d7-42c2-967d-393e7479c246",
   "metadata": {},
   "source": [
    "2 Columns have missing data: LDL, SBP. However, we don't want to eliminate those rows because there is much more information in other columns, so we save those IDs"
   ]
  },
  {
   "cell_type": "code",
   "execution_count": 11,
   "id": "38cd8399-4e76-478a-9e26-d108726c0e6e",
   "metadata": {},
   "outputs": [
    {
     "data": {
      "text/plain": [
       "['MI_017_H', 'MI_078_H', 'MI_354_H']"
      ]
     },
     "execution_count": 11,
     "metadata": {},
     "output_type": "execute_result"
    }
   ],
   "source": [
    "#Only 3 rows have at least 1 NA\n",
    "rows_with_na = antro_1[antro_1.isna().any(axis=1)]\n",
    "ids_with_nas = rows_with_na['ID'].tolist()\n",
    "ids_with_nas"
   ]
  },
  {
   "cell_type": "markdown",
   "id": "1786c054-ae93-4f69-b066-b8da7e8a6ce3",
   "metadata": {},
   "source": [
    "#### Step 1.2: Antro_2"
   ]
  },
  {
   "cell_type": "code",
   "execution_count": 12,
   "id": "ca138868-88e1-489e-803a-4715fcdb33a7",
   "metadata": {},
   "outputs": [
    {
     "data": {
      "text/plain": [
       "ID               object\n",
       "city             object\n",
       "sex              object\n",
       "age_range        object\n",
       "bmi_class        object\n",
       "socioeconomic     int64\n",
       "dtype: object"
      ]
     },
     "execution_count": 12,
     "metadata": {},
     "output_type": "execute_result"
    }
   ],
   "source": [
    "antro_2.dtypes"
   ]
  },
  {
   "cell_type": "code",
   "execution_count": 13,
   "id": "08465f61-aade-4366-b74f-2073c386b3ab",
   "metadata": {},
   "outputs": [
    {
     "name": "stdout",
     "output_type": "stream",
     "text": [
      "<class 'pandas.core.frame.DataFrame'>\n",
      "RangeIndex: 446 entries, 0 to 445\n",
      "Data columns (total 6 columns):\n",
      " #   Column         Non-Null Count  Dtype \n",
      "---  ------         --------------  ----- \n",
      " 0   ID             446 non-null    object\n",
      " 1   city           446 non-null    object\n",
      " 2   sex            446 non-null    object\n",
      " 3   age_range      446 non-null    object\n",
      " 4   bmi_class      446 non-null    object\n",
      " 5   socioeconomic  446 non-null    int64 \n",
      "dtypes: int64(1), object(5)\n",
      "memory usage: 21.0+ KB\n"
     ]
    }
   ],
   "source": [
    "antro_2.info()"
   ]
  },
  {
   "cell_type": "markdown",
   "id": "0995eb92-b98c-4648-9e01-2bbae4deb667",
   "metadata": {},
   "source": [
    "All correct"
   ]
  },
  {
   "cell_type": "markdown",
   "id": "d9eccb50-3313-40e7-b948-0748dd20e2e6",
   "metadata": {},
   "source": [
    "#### Step 1.3: nutrients "
   ]
  },
  {
   "cell_type": "code",
   "execution_count": 14,
   "id": "26bcac18-ae72-4d9d-ac63-6b12a8cfbf2f",
   "metadata": {},
   "outputs": [
    {
     "data": {
      "text/plain": [
       "id                        object\n",
       "Codalt                     int64\n",
       "Calories                   int64\n",
       "Proteins                 float64\n",
       "Total_fat                  int64\n",
       "SFA                      float64\n",
       "MUFA                     float64\n",
       "PUFA                     float64\n",
       "Cholesterol                int64\n",
       "Carbohydrates              int64\n",
       "Complex_carbohydrates      int64\n",
       "Fiber                      int64\n",
       "Ca                         int64\n",
       "P                          int64\n",
       "Fe                       float64\n",
       "Na                       float64\n",
       "K                          int64\n",
       "Mg                         int64\n",
       "Zn                       float64\n",
       "Cu                       float64\n",
       "Mn                       float64\n",
       "VitA                       int64\n",
       "B1                       float64\n",
       "B2                       float64\n",
       "B3                         int64\n",
       "B5                         int64\n",
       "B6                       float64\n",
       "Folate                     int64\n",
       "B12                      float64\n",
       "VitC                       int64\n",
       "dtype: object"
      ]
     },
     "execution_count": 14,
     "metadata": {},
     "output_type": "execute_result"
    }
   ],
   "source": [
    "nutrients.dtypes"
   ]
  },
  {
   "cell_type": "code",
   "execution_count": 15,
   "id": "3cedbdfa-44af-4635-beaf-e70da61e7ee1",
   "metadata": {},
   "outputs": [
    {
     "name": "stdout",
     "output_type": "stream",
     "text": [
      "<class 'pandas.core.frame.DataFrame'>\n",
      "RangeIndex: 459 entries, 0 to 458\n",
      "Data columns (total 30 columns):\n",
      " #   Column                 Non-Null Count  Dtype  \n",
      "---  ------                 --------------  -----  \n",
      " 0   id                     459 non-null    object \n",
      " 1   Codalt                 459 non-null    int64  \n",
      " 2   Calories               459 non-null    int64  \n",
      " 3   Proteins               459 non-null    float64\n",
      " 4   Total_fat              459 non-null    int64  \n",
      " 5   SFA                    459 non-null    float64\n",
      " 6   MUFA                   459 non-null    float64\n",
      " 7   PUFA                   459 non-null    float64\n",
      " 8   Cholesterol            459 non-null    int64  \n",
      " 9   Carbohydrates          459 non-null    int64  \n",
      " 10  Complex_carbohydrates  459 non-null    int64  \n",
      " 11  Fiber                  459 non-null    int64  \n",
      " 12  Ca                     459 non-null    int64  \n",
      " 13  P                      459 non-null    int64  \n",
      " 14  Fe                     459 non-null    float64\n",
      " 15  Na                     459 non-null    float64\n",
      " 16  K                      459 non-null    int64  \n",
      " 17  Mg                     459 non-null    int64  \n",
      " 18  Zn                     459 non-null    float64\n",
      " 19  Cu                     459 non-null    float64\n",
      " 20  Mn                     459 non-null    float64\n",
      " 21  VitA                   459 non-null    int64  \n",
      " 22  B1                     459 non-null    float64\n",
      " 23  B2                     459 non-null    float64\n",
      " 24  B3                     459 non-null    int64  \n",
      " 25  B5                     459 non-null    int64  \n",
      " 26  B6                     459 non-null    float64\n",
      " 27  Folate                 459 non-null    int64  \n",
      " 28  B12                    459 non-null    float64\n",
      " 29  VitC                   459 non-null    int64  \n",
      "dtypes: float64(13), int64(16), object(1)\n",
      "memory usage: 107.7+ KB\n"
     ]
    }
   ],
   "source": [
    "nutrients.info()"
   ]
  },
  {
   "cell_type": "markdown",
   "id": "295bf027-4782-4aae-ad66-ea86aea9d7f4",
   "metadata": {},
   "source": [
    "Todo bien"
   ]
  },
  {
   "cell_type": "markdown",
   "id": "d153c3e5-bcec-4a10-85ab-6cfd985fab40",
   "metadata": {},
   "source": [
    "#### Step 1.4: Food_groups "
   ]
  },
  {
   "cell_type": "code",
   "execution_count": 16,
   "id": "3f4996ad-3123-445b-ab74-d5458e93c743",
   "metadata": {},
   "outputs": [
    {
     "data": {
      "text/plain": [
       "Code            float64\n",
       "Codalt            int64\n",
       "City             object\n",
       "r24h              int64\n",
       "Dairy g         float64\n",
       "Meats g         float64\n",
       "Eggs g          float64\n",
       "Beans g         float64\n",
       "Nuts g          float64\n",
       "Fruits g        float64\n",
       "Vegetables g    float64\n",
       "Cereals g       float64\n",
       "Tubers g        float64\n",
       "Fats g          float64\n",
       "Sugars g        float64\n",
       "HEI             float64\n",
       "SCORE_GABAS     float64\n",
       "dtype: object"
      ]
     },
     "execution_count": 16,
     "metadata": {},
     "output_type": "execute_result"
    }
   ],
   "source": [
    "food_group.dtypes"
   ]
  },
  {
   "cell_type": "code",
   "execution_count": 17,
   "id": "4773425b-2030-429d-b03f-a7c4b76393a2",
   "metadata": {},
   "outputs": [
    {
     "name": "stdout",
     "output_type": "stream",
     "text": [
      "<class 'pandas.core.frame.DataFrame'>\n",
      "RangeIndex: 557 entries, 0 to 556\n",
      "Data columns (total 17 columns):\n",
      " #   Column        Non-Null Count  Dtype  \n",
      "---  ------        --------------  -----  \n",
      " 0   Code          557 non-null    float64\n",
      " 1   Codalt        557 non-null    int64  \n",
      " 2   City          557 non-null    object \n",
      " 3   r24h          557 non-null    int64  \n",
      " 4   Dairy g       557 non-null    float64\n",
      " 5   Meats g       557 non-null    float64\n",
      " 6   Eggs g        557 non-null    float64\n",
      " 7   Beans g       557 non-null    float64\n",
      " 8   Nuts g        557 non-null    float64\n",
      " 9   Fruits g      557 non-null    float64\n",
      " 10  Vegetables g  557 non-null    float64\n",
      " 11  Cereals g     557 non-null    float64\n",
      " 12  Tubers g      557 non-null    float64\n",
      " 13  Fats g        557 non-null    float64\n",
      " 14  Sugars g      557 non-null    float64\n",
      " 15  HEI           556 non-null    float64\n",
      " 16  SCORE_GABAS   556 non-null    float64\n",
      "dtypes: float64(14), int64(2), object(1)\n",
      "memory usage: 74.1+ KB\n"
     ]
    }
   ],
   "source": [
    "food_group.info()"
   ]
  },
  {
   "cell_type": "markdown",
   "id": "7047842d-57f6-43f6-a254-d1d4054c9da7",
   "metadata": {},
   "source": [
    "HEI and SCORE_GABAS have 1 missing value. As this source has data with recalls of 24h and +24h, we first look at the specific row before making a desicion"
   ]
  },
  {
   "cell_type": "code",
   "execution_count": 18,
   "id": "12b5d807-ec4a-4dda-8223-1d2c54d76ab4",
   "metadata": {},
   "outputs": [
    {
     "data": {
      "text/html": [
       "<div>\n",
       "<style scoped>\n",
       "    .dataframe tbody tr th:only-of-type {\n",
       "        vertical-align: middle;\n",
       "    }\n",
       "\n",
       "    .dataframe tbody tr th {\n",
       "        vertical-align: top;\n",
       "    }\n",
       "\n",
       "    .dataframe thead th {\n",
       "        text-align: right;\n",
       "    }\n",
       "</style>\n",
       "<table border=\"1\" class=\"dataframe\">\n",
       "  <thead>\n",
       "    <tr style=\"text-align: right;\">\n",
       "      <th></th>\n",
       "      <th>Code</th>\n",
       "      <th>Codalt</th>\n",
       "      <th>City</th>\n",
       "      <th>r24h</th>\n",
       "      <th>Dairy g</th>\n",
       "      <th>Meats g</th>\n",
       "      <th>Eggs g</th>\n",
       "      <th>Beans g</th>\n",
       "      <th>Nuts g</th>\n",
       "      <th>Fruits g</th>\n",
       "      <th>Vegetables g</th>\n",
       "      <th>Cereals g</th>\n",
       "      <th>Tubers g</th>\n",
       "      <th>Fats g</th>\n",
       "      <th>Sugars g</th>\n",
       "      <th>HEI</th>\n",
       "      <th>SCORE_GABAS</th>\n",
       "    </tr>\n",
       "  </thead>\n",
       "  <tbody>\n",
       "    <tr>\n",
       "      <th>1</th>\n",
       "      <td>1.050010e+14</td>\n",
       "      <td>7</td>\n",
       "      <td>Medellin</td>\n",
       "      <td>2</td>\n",
       "      <td>250.0</td>\n",
       "      <td>294.0</td>\n",
       "      <td>0.0001</td>\n",
       "      <td>0.0001</td>\n",
       "      <td>0.0001</td>\n",
       "      <td>120.0</td>\n",
       "      <td>52.0</td>\n",
       "      <td>379.0</td>\n",
       "      <td>220.0</td>\n",
       "      <td>9.0</td>\n",
       "      <td>406.0</td>\n",
       "      <td>NaN</td>\n",
       "      <td>NaN</td>\n",
       "    </tr>\n",
       "  </tbody>\n",
       "</table>\n",
       "</div>"
      ],
      "text/plain": [
       "           Code  Codalt      City  r24h  Dairy g  Meats g  Eggs g  Beans g  \\\n",
       "1  1.050010e+14       7  Medellin     2    250.0    294.0  0.0001   0.0001   \n",
       "\n",
       "   Nuts g  Fruits g  Vegetables g  Cereals g  Tubers g  Fats g  Sugars g  HEI  \\\n",
       "1  0.0001     120.0          52.0      379.0     220.0     9.0     406.0  NaN   \n",
       "\n",
       "   SCORE_GABAS  \n",
       "1          NaN  "
      ]
     },
     "execution_count": 18,
     "metadata": {},
     "output_type": "execute_result"
    }
   ],
   "source": [
    "rows_with_na_fg = food_group[food_group.isna().any(axis=1)]\n",
    "rows_with_na_fg"
   ]
  },
  {
   "cell_type": "markdown",
   "id": "8ac1ebac-d821-411d-bde7-87299aaf0fb1",
   "metadata": {},
   "source": [
    "It is an observation with +24h recall -> there is no need to save it, as it will be of no use in the future"
   ]
  },
  {
   "cell_type": "markdown",
   "id": "400282d5-3a88-4b9c-a161-1e6af5ac5f3e",
   "metadata": {},
   "source": [
    "#### Step 1.5: otu "
   ]
  },
  {
   "cell_type": "code",
   "execution_count": 19,
   "id": "3d69a9c6-cfc4-4d2f-aede-0d457027f34e",
   "metadata": {},
   "outputs": [
    {
     "data": {
      "text/plain": [
       "['samples']"
      ]
     },
     "execution_count": 19,
     "metadata": {},
     "output_type": "execute_result"
    }
   ],
   "source": [
    "#There are many columns, checking them is slightly different\n",
    "#Find rows with object dtype\n",
    "filas_object_otu = otu.columns[otu.dtypes == 'object'].tolist()\n",
    "filas_object_otu"
   ]
  },
  {
   "cell_type": "code",
   "execution_count": 20,
   "id": "f8fd5d22-148a-4536-b411-1eb90a05c387",
   "metadata": {},
   "outputs": [
    {
     "name": "stdout",
     "output_type": "stream",
     "text": [
      "Int columns 4738\n",
      "Non-id columns 4738\n"
     ]
    }
   ],
   "source": [
    "#We double check that the other columns are intt64\n",
    "filas_int = otu.columns[otu.dtypes == 'int64'].tolist()\n",
    "print('Int columns', len(filas_int))\n",
    "print('Non-id columns', otu.shape[1]-1)"
   ]
  },
  {
   "cell_type": "code",
   "execution_count": 21,
   "id": "ce9ba523-0343-42d2-b42a-c309d022a1fb",
   "metadata": {},
   "outputs": [
    {
     "data": {
      "text/html": [
       "<div>\n",
       "<style scoped>\n",
       "    .dataframe tbody tr th:only-of-type {\n",
       "        vertical-align: middle;\n",
       "    }\n",
       "\n",
       "    .dataframe tbody tr th {\n",
       "        vertical-align: top;\n",
       "    }\n",
       "\n",
       "    .dataframe thead th {\n",
       "        text-align: right;\n",
       "    }\n",
       "</style>\n",
       "<table border=\"1\" class=\"dataframe\">\n",
       "  <thead>\n",
       "    <tr style=\"text-align: right;\">\n",
       "      <th></th>\n",
       "      <th>samples</th>\n",
       "      <th>Otu00001</th>\n",
       "      <th>Otu00002</th>\n",
       "      <th>Otu00003</th>\n",
       "      <th>Otu00004</th>\n",
       "      <th>Otu00005</th>\n",
       "      <th>Otu00006</th>\n",
       "      <th>Otu00007</th>\n",
       "      <th>Otu00008</th>\n",
       "      <th>Otu00009</th>\n",
       "      <th>...</th>\n",
       "      <th>Otu04757</th>\n",
       "      <th>Otu04758</th>\n",
       "      <th>Otu04759</th>\n",
       "      <th>Otu04760</th>\n",
       "      <th>Otu04761</th>\n",
       "      <th>Otu04762</th>\n",
       "      <th>Otu04763</th>\n",
       "      <th>Otu04764</th>\n",
       "      <th>Otu04765</th>\n",
       "      <th>Otu04766</th>\n",
       "    </tr>\n",
       "  </thead>\n",
       "  <tbody>\n",
       "  </tbody>\n",
       "</table>\n",
       "<p>0 rows × 4739 columns</p>\n",
       "</div>"
      ],
      "text/plain": [
       "Empty DataFrame\n",
       "Columns: [samples, Otu00001, Otu00002, Otu00003, Otu00004, Otu00005, Otu00006, Otu00007, Otu00008, Otu00009, Otu00010, Otu00011, Otu00012, Otu00013, Otu00014, Otu00015, Otu00016, Otu00017, Otu00018, Otu00019, Otu00020, Otu00021, Otu00022, Otu00023, Otu00024, Otu00025, Otu00026, Otu00027, Otu00028, Otu00029, Otu00030, Otu00031, Otu00032, Otu00033, Otu00034, Otu00035, Otu00036, Otu00037, Otu00038, Otu00039, Otu00040, Otu00041, Otu00042, Otu00043, Otu00044, Otu00045, Otu00046, Otu00047, Otu00048, Otu00049, Otu00050, Otu00051, Otu00052, Otu00053, Otu00054, Otu00055, Otu00056, Otu00057, Otu00058, Otu00059, Otu00060, Otu00061, Otu00062, Otu00063, Otu00064, Otu00065, Otu00066, Otu00067, Otu00068, Otu00069, Otu00070, Otu00071, Otu00072, Otu00073, Otu00074, Otu00075, Otu00076, Otu00077, Otu00078, Otu00079, Otu00080, Otu00081, Otu00082, Otu00083, Otu00084, Otu00085, Otu00086, Otu00087, Otu00088, Otu00089, Otu00090, Otu00091, Otu00092, Otu00093, Otu00094, Otu00095, Otu00096, Otu00097, Otu00098, Otu00099, ...]\n",
       "Index: []\n",
       "\n",
       "[0 rows x 4739 columns]"
      ]
     },
     "execution_count": 21,
     "metadata": {},
     "output_type": "execute_result"
    }
   ],
   "source": [
    "#We check for NAs\n",
    "rows_with_na_otu = otu[otu.isna().any(axis=1)]\n",
    "rows_with_na_otu"
   ]
  },
  {
   "cell_type": "markdown",
   "id": "d7879642-513d-4fdb-ab11-f5a3f19088b6",
   "metadata": {},
   "source": [
    "All values are OK"
   ]
  },
  {
   "cell_type": "markdown",
   "id": "ff36b64c-08bf-4098-9678-a50f4b354edc",
   "metadata": {},
   "source": [
    "### Step 2: Create consistency in ID column name "
   ]
  },
  {
   "cell_type": "code",
   "execution_count": 22,
   "id": "ab96f013-8b7d-46e2-8e6c-b3b63c6a90e3",
   "metadata": {},
   "outputs": [],
   "source": [
    "#Nutrients: Cambiar id por ID\n",
    "nutrients.rename(columns={nutrients.columns[0]: \"ID\"}, inplace=True)\n",
    "\n",
    "#otu: Cambiar samples por ID\n",
    "otu.rename(columns={otu.columns[0]: \"ID\"}, inplace=True)"
   ]
  },
  {
   "cell_type": "markdown",
   "id": "4dcb5b82-3049-4ceb-985e-4b0994e3c44a",
   "metadata": {},
   "source": [
    "### Step 2.1: Remove rows with duplicate samples\n",
    "\n",
    "According to existing papers, the following rows are duplicate samples:\n",
    "- MI_008_H2\n",
    "- MI_093_H12\n",
    "- MI_130_H2\n",
    "- MI_198_H2\n",
    "- MI_458_H2\n",
    "\n",
    "So the first thing to do is to remove them"
   ]
  },
  {
   "cell_type": "code",
   "execution_count": 23,
   "id": "16aff3f9-1f23-4198-87e3-b4c8251a9e79",
   "metadata": {},
   "outputs": [],
   "source": [
    "ID_repeticiones = [\"MI_008_H2\", \"MI_093_H12\", \"MI_130_H2\", \"MI_198_H2\", \"MI_458_H2\"]"
   ]
  },
  {
   "cell_type": "code",
   "execution_count": 24,
   "id": "90f0e2fa-6726-499f-9479-d6b4bc22999e",
   "metadata": {},
   "outputs": [
    {
     "data": {
      "text/plain": [
       "(441, 32)"
      ]
     },
     "execution_count": 24,
     "metadata": {},
     "output_type": "execute_result"
    }
   ],
   "source": [
    "antro_1 = antro_1[~antro_1['ID'].isin(ID_repeticiones)]\n",
    "antro_1.shape"
   ]
  },
  {
   "cell_type": "markdown",
   "id": "51deba62-79d5-4a8e-818c-2d54d66ca52a",
   "metadata": {},
   "source": [
    "### Step 2.2: Consolidate rows for all other sources\n",
    "It is enough to do isin() with ID. The only exception is food_group,and that will be dealt with later"
   ]
  },
  {
   "cell_type": "code",
   "execution_count": 25,
   "id": "c5147ab6-63a6-4e86-83fd-15c2d2da3278",
   "metadata": {},
   "outputs": [
    {
     "data": {
      "text/plain": [
       "(441, 6)"
      ]
     },
     "execution_count": 25,
     "metadata": {},
     "output_type": "execute_result"
    }
   ],
   "source": [
    "#antro_2\n",
    "antro_2 = antro_2[antro_2['ID'].isin(antro_1['ID'])]\n",
    "antro_2.shape"
   ]
  },
  {
   "cell_type": "code",
   "execution_count": 26,
   "id": "24ee6918-425d-459e-b10b-9ca8578db67d",
   "metadata": {},
   "outputs": [
    {
     "data": {
      "text/plain": [
       "(441, 30)"
      ]
     },
     "execution_count": 26,
     "metadata": {},
     "output_type": "execute_result"
    }
   ],
   "source": [
    "#nutrients\n",
    "nutrients = nutrients[nutrients['ID'].isin(antro_1['ID'])]\n",
    "nutrients.shape"
   ]
  },
  {
   "cell_type": "code",
   "execution_count": 27,
   "id": "b7cb8512-7ebb-47c1-a666-fd14ea31734d",
   "metadata": {},
   "outputs": [
    {
     "data": {
      "text/plain": [
       "(441, 4739)"
      ]
     },
     "execution_count": 27,
     "metadata": {},
     "output_type": "execute_result"
    }
   ],
   "source": [
    "#otu\n",
    "otu = otu[otu['ID'].isin(antro_1['ID'])]\n",
    "otu.shape"
   ]
  },
  {
   "cell_type": "markdown",
   "id": "4d78802d-4e5d-40bf-8641-1fbcf6eb0bdc",
   "metadata": {},
   "source": [
    "### Step 3.1: Consolidate antro\n",
    "- antro_1 has the base variables\n",
    "- antro_2 has the socioeconomic variable"
   ]
  },
  {
   "cell_type": "code",
   "execution_count": 28,
   "id": "bc07b4fc-7c63-4c9f-810c-5292f60ef8a6",
   "metadata": {},
   "outputs": [
    {
     "data": {
      "text/plain": [
       "Index(['ID', 'city', 'socioeconomic', 'sex', 'age', 'age_range', 'HDL', 'LDL',\n",
       "       'cholesterol', 'triglycerides', 'hsCRP', 'glucose', 'glycosylated_hg',\n",
       "       'adiponectin', 'insulin', 'HOMA_IR', 'stool_consistency', 'hiden_blood',\n",
       "       'systolic_bp', 'diastolic_bp', 'bmi', 'bmi_class', 'body_fat', 'waist',\n",
       "       'medicament', 'fiber', 'per_protein', 'per_animal_protein',\n",
       "       'per_total_fat', 'per_saturated_fat', 'per_monoinsaturated_fat',\n",
       "       'per_polyunsaturated_fat', 'per_carbohydrates'],\n",
       "      dtype='object')"
      ]
     },
     "execution_count": 28,
     "metadata": {},
     "output_type": "execute_result"
    }
   ],
   "source": [
    "#Put socioeconomic in antro_1\n",
    "antro_complete = pd.merge(antro_1, antro_2[['ID', 'socioeconomic']], on = 'ID', how = 'inner')\n",
    "antro_complete_columns = antro_complete.columns.tolist()\n",
    "socio_col = antro_complete_columns.pop()\n",
    "antro_complete_columns.insert(2, socio_col)\n",
    "antro_complete = antro_complete[antro_complete_columns]\n",
    "antro_complete.columns"
   ]
  },
  {
   "cell_type": "code",
   "execution_count": 29,
   "id": "f52f7ba2-2dfb-4460-9804-4ff76985c52e",
   "metadata": {},
   "outputs": [],
   "source": [
    "#We can export the file\n",
    "antro_complete.to_csv('./Consolidated/anthro_data.meta', sep = '\\t', index = False)"
   ]
  },
  {
   "cell_type": "markdown",
   "id": "7c0b3dd5-e03a-4b5f-b747-10b72a1e3b4b",
   "metadata": {},
   "source": [
    "### Step 3.2: Consolidar datos de food group"
   ]
  },
  {
   "cell_type": "code",
   "execution_count": 30,
   "id": "449445f3-083f-4bf1-ba85-c129aeb372f2",
   "metadata": {},
   "outputs": [],
   "source": [
    "#We select the food group rows that are in nutrients\n",
    "food_group_selected = pd.merge(food_group, nutrients[['ID', 'Codalt']], on = 'Codalt', how = 'inner')\n",
    "food_group_selected.shape\n",
    "desired_col_order = ['ID'] + food_group.columns.tolist()\n",
    "food_group_selected = food_group_selected[desired_col_order]"
   ]
  },
  {
   "cell_type": "code",
   "execution_count": 31,
   "id": "bfced192-078d-48ba-ad0c-548721fcade7",
   "metadata": {},
   "outputs": [
    {
     "data": {
      "text/plain": [
       "((441, 18), (94, 18))"
      ]
     },
     "execution_count": 31,
     "metadata": {},
     "output_type": "execute_result"
    }
   ],
   "source": [
    "#Separate food group observations based on recall time\n",
    "food_group_U24h = food_group_selected[food_group_selected['r24h']<2]\n",
    "food_group_O24h = food_group_selected[food_group_selected['r24h']>1]\n",
    "\n",
    "food_group_U24h.shape, food_group_O24h.shape"
   ]
  },
  {
   "cell_type": "markdown",
   "id": "b068ee2a-fdd0-4f57-8c5e-3bf4d4d42a47",
   "metadata": {},
   "source": [
    "### Step 3.3: Export data"
   ]
  },
  {
   "cell_type": "code",
   "execution_count": 32,
   "id": "9a0a9221-0b1f-40d8-8f44-31ad47266fa6",
   "metadata": {},
   "outputs": [],
   "source": [
    "#Nutrients\n",
    "nutrients.to_csv('./Consolidated/nutrients_data.txt', sep = '\\t', index = False)\n",
    "\n",
    "#OTU\n",
    "otu.to_csv('./Consolidated/otu_data.otus', sep = '\\t', index = False)\n",
    "\n",
    "#Food group under 24h\n",
    "food_group_U24h = food_group_U24h.sort_values(by = 'Codalt')\n",
    "food_group_U24h.to_csv('./Consolidated/food_groups_u24h.csv',index = False)"
   ]
  },
  {
   "cell_type": "markdown",
   "id": "4e09715c-27e3-4b41-9d98-37dcadc2ad1f",
   "metadata": {},
   "source": [
    "### Step 3.4: Export data without the NA rows (3 rows removed)"
   ]
  },
  {
   "cell_type": "code",
   "execution_count": 34,
   "id": "9e1d3aa3-260b-44f4-8cf8-db2274a2fbf2",
   "metadata": {},
   "outputs": [],
   "source": [
    "#Antro:\n",
    "antro_no_NA = antro_complete[~antro_complete['ID'].isin(ids_with_nas)]\n",
    "antro_complete.to_csv('./ConsolidatednoNA/anthro_data_clean.meta', sep = '\\t', index = False)\n",
    "\n",
    "#Nutrients\n",
    "nutrients_no_NA = nutrients[~nutrients['ID'].isin(ids_with_nas)]\n",
    "nutrients_no_NA.to_csv('./ConsolidatednoNA/nutrients_data_clean.txt', sep = '\\t', index = False)\n",
    "\n",
    "#Food group under 24h\n",
    "food_group_U24h_no_NA = food_group_U24h[~food_group_U24h['ID'].isin(ids_with_nas)]\n",
    "food_group_U24h_no_NA.to_csv('./ConsolidatednoNA/food_groups_u24h_clean.csv',index = False)\n",
    "\n",
    "#OTU\n",
    "otu_no_NA = otu[~otu['ID'].isin(ids_with_nas)]\n",
    "otu_no_NA.to_csv('./ConsolidatednoNA/otu_data_clean.otus', sep = '\\t', index = False)"
   ]
  }
 ],
 "metadata": {
  "kernelspec": {
   "display_name": "my_kernel",
   "language": "python",
   "name": "my_kernel"
  },
  "language_info": {
   "codemirror_mode": {
    "name": "ipython",
    "version": 3
   },
   "file_extension": ".py",
   "mimetype": "text/x-python",
   "name": "python",
   "nbconvert_exporter": "python",
   "pygments_lexer": "ipython3",
   "version": "3.11.11"
  }
 },
 "nbformat": 4,
 "nbformat_minor": 5
}
